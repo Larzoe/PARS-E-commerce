{
 "cells": [
  {
   "cell_type": "code",
   "execution_count": 1,
   "metadata": {},
   "outputs": [],
   "source": [
    "import pandas as pd\n",
    "from google.cloud import bigquery\n",
    "from google.oauth2 import service_account\n",
    "import warnings\n",
    "warnings.filterwarnings(\"ignore\")\n",
    "from dotenv import load_dotenv, find_dotenv\n",
    "load_dotenv(find_dotenv())\n",
    "from tqdm import tqdm"
   ]
  },
  {
   "cell_type": "markdown",
   "metadata": {},
   "source": [
    "## Import data"
   ]
  },
  {
   "cell_type": "code",
   "execution_count": 2,
   "metadata": {},
   "outputs": [],
   "source": [
    "credentials = service_account.Credentials.from_service_account_file('bigquery-production.json')\n",
    "project_id = 'production-247608'\n",
    "client = bigquery.Client(credentials= credentials,project=project_id)\n",
    "\n",
    "query_job = client.query(\"\"\"\n",
    "    SELECT user_pseudo_id, session_id, timestamp_local, event_name, clean_path\n",
    "    FROM `production-247608.dataform.ga4_raw_flat_nl` \n",
    "    WHERE date >= '2024-04-16' \"\"\")\n",
    "raw_data = query_job.result().to_dataframe()"
   ]
  },
  {
   "cell_type": "markdown",
   "metadata": {},
   "source": [
    "## Preprocessing"
   ]
  },
  {
   "cell_type": "code",
   "execution_count": 3,
   "metadata": {},
   "outputs": [],
   "source": [
    "events = ['showrooms_info_view', 'showroom_appointment_step', 'category_banner_view', 'inspiratie_view',\n",
    "          'advies_view', 'mijnsanitair_view', 'view_item_list', 'view_item', 'add_to_cart', \n",
    "          'remove_from_cart', 'begin_checkout', 'view_cart', 'add_to_wishlist', 'view_search_results',\n",
    "          'product_compare']"
   ]
  },
  {
   "cell_type": "code",
   "execution_count": 4,
   "metadata": {},
   "outputs": [],
   "source": [
    "data_cleaned = raw_data[raw_data['event_name'].isin(events)]"
   ]
  },
  {
   "cell_type": "code",
   "execution_count": 5,
   "metadata": {},
   "outputs": [],
   "source": [
    "data_cleaned = data_cleaned.sort_values(['session_id','timestamp_local']).reset_index(drop=True)\n",
    "# drop row if the previous row has the same session_id, event_name and clean_path \n",
    "mask = (data_cleaned['session_id'] == data_cleaned['session_id'].shift(1)) & \\\n",
    "        (data_cleaned['event_name'] == data_cleaned['event_name'].shift(1)) & \\\n",
    "        (data_cleaned['clean_path'] == data_cleaned['clean_path'].shift(1))\n",
    "data_cleaned = data_cleaned[~mask]"
   ]
  },
  {
   "cell_type": "markdown",
   "metadata": {},
   "source": [
    "### Minimum session time"
   ]
  },
  {
   "cell_type": "code",
   "execution_count": 6,
   "metadata": {},
   "outputs": [],
   "source": [
    "session_start_time = data_cleaned.groupby('session_id')['timestamp_local'].min()\n",
    "session_end_time = data_cleaned.groupby('session_id')['timestamp_local'].max()\n",
    "session_length = pd.merge(session_start_time, session_end_time, on='session_id', how='left', suffixes=(' start', ' end'))\n",
    "session_length['session_length'] = session_length['timestamp_local end']-session_length['timestamp_local start']\n",
    "minimum_30_seconds = session_length[session_length['session_length'] > '0 days 00:00:30']\n",
    "data = data_cleaned[data_cleaned['session_id'].isin(minimum_30_seconds.index)]\n",
    "data = data.sort_values(by=['session_id','timestamp_local']).reset_index(drop=True)"
   ]
  },
  {
   "cell_type": "markdown",
   "metadata": {},
   "source": [
    "### Add variables"
   ]
  },
  {
   "cell_type": "code",
   "execution_count": 7,
   "metadata": {},
   "outputs": [],
   "source": [
    "data_sorted = data.sort_values(['session_id','timestamp_local']).reset_index(drop=True)\n",
    "# create a column with the time between the consecutive events if the session ids are the same otherwise the time is pd.NaT\n",
    "data_sorted['time_between_events'] = data_sorted['timestamp_local'].diff().where(data_sorted['session_id'].eq(data_sorted['session_id'].shift())).fillna(pd.Timedelta(seconds=0))"
   ]
  },
  {
   "cell_type": "code",
   "execution_count": 8,
   "metadata": {},
   "outputs": [],
   "source": [
    "# create a column with the time between the current event and the start of the session\n",
    "data_sorted = data_sorted.sort_values(['session_id','timestamp_local']).reset_index(drop=True)\n",
    "data_sorted['time_since_session_start'] = data_sorted['timestamp_local'] - data_sorted.groupby('session_id')['timestamp_local'].transform('first')"
   ]
  },
  {
   "cell_type": "code",
   "execution_count": 9,
   "metadata": {},
   "outputs": [],
   "source": [
    "data_sorted = data_sorted.sort_values(['session_id','timestamp_local']).reset_index(drop=True)\n",
    "data_sorted['number of events'] =  data_sorted.groupby('session_id').cumcount() + 1\n",
    "data_sorted['total number of events'] = data_sorted.groupby('session_id')['number of events'].transform('max')"
   ]
  },
  {
   "cell_type": "code",
   "execution_count": 11,
   "metadata": {},
   "outputs": [],
   "source": [
    "data_min_events = data_sorted[(data_sorted['total number of events'] >= 5) & (data_sorted['total number of events'] <= 50)]\n",
    "#data_min_events.to_csv('../../data/sessionmodel 20240403.csv', index=False)"
   ]
  },
  {
   "cell_type": "markdown",
   "metadata": {},
   "source": [
    "## ML preprocessing"
   ]
  },
  {
   "cell_type": "markdown",
   "metadata": {},
   "source": [
    "### Create decision points"
   ]
  },
  {
   "cell_type": "code",
   "execution_count": 12,
   "metadata": {},
   "outputs": [],
   "source": [
    "incoming_arcs = {}\n",
    "outgoing_arcs = {}\n",
    "for event in events:\n",
    "    incoming_arcs[event] = {}\n",
    "    outgoing_arcs[event] = {}\n",
    "    for event2 in events:\n",
    "        incoming_arcs[event][event2] = 0\n",
    "        outgoing_arcs[event][event2] = 0\n",
    "for user in data_min_events['session_id'].unique():\n",
    "    user_data = data_min_events[data_min_events['session_id'] == user]\n",
    "    for i in range(len(user_data)-1):\n",
    "        event1 = user_data['event_name'].iloc[i]\n",
    "        event2 = user_data['event_name'].iloc[i+1]\n",
    "        incoming_arcs[event2][event1] += 1\n",
    "        outgoing_arcs[event1][event2] += 1"
   ]
  },
  {
   "cell_type": "markdown",
   "metadata": {},
   "source": [
    "### Tokenize and pad sequences"
   ]
  },
  {
   "cell_type": "code",
   "execution_count": 13,
   "metadata": {},
   "outputs": [
    {
     "name": "stderr",
     "output_type": "stream",
     "text": [
      "100%|██████████| 157261/157261 [11:29<00:00, 228.06it/s]\n"
     ]
    }
   ],
   "source": [
    "data_ml = data_min_events.sort_values(['session_id','timestamp_local']).reset_index(drop=True)\n",
    "\n",
    "if 'event_list' not in data_ml:\n",
    "    data_ml['event_list'] = [[] for _ in range(len(data_ml))]\n",
    "if 'tsst_list' not in data_ml:\n",
    "    data_ml['tsst_list'] = [[] for _ in range(len(data_ml))]\n",
    "if 'tbe_list' not in data_ml:\n",
    "    data_ml['tbe_list'] = [[] for _ in range(len(data_ml))]\n",
    "if 'prefix_id' not in data_ml:\n",
    "    data_ml['prefix_id'] = [None for _ in range(len(data_ml))]\n",
    "\n",
    "users = data_ml['session_id'].unique()\n",
    "for user in tqdm(users):\n",
    "    user_data = data_ml[data_ml['session_id'] == user]\n",
    "    prefix_extension = 0\n",
    "    event_list = []\n",
    "    tsst_list = []\n",
    "    tbe_list = []\n",
    "    for idx in user_data.index:\n",
    "        data_ml.at[idx, 'prefix_id'] = f'{user}_{prefix_extension}'\n",
    "        prefix_extension += 1\n",
    "\n",
    "        event_list.append(data_ml.at[idx, 'event_name'])\n",
    "        data_ml.at[idx, 'event_list'] = event_list.copy()\n",
    "        \n",
    "        tsst_list.append(data_ml.at[idx, 'time_since_session_start'])\n",
    "        data_ml.at[idx, 'tsst_list'] = tsst_list.copy()\n",
    "\n",
    "        tbe_list.append(data_ml.at[idx, 'time_between_events'])\n",
    "        data_ml.at[idx, 'tbe_list'] = tbe_list.copy()"
   ]
  },
  {
   "cell_type": "code",
   "execution_count": 14,
   "metadata": {},
   "outputs": [],
   "source": [
    "from tensorflow.keras.preprocessing.text import Tokenizer\n",
    "tokenizer = Tokenizer()\n",
    "from tensorflow.keras.preprocessing.sequence import pad_sequences\n",
    "# Tokenize the event_list to numbers = integer tokenization\n",
    "tokenizer.fit_on_texts(data_ml['event_list'])\n",
    "data_ml['tokenized_event_list'] = tokenizer.texts_to_sequences(data_ml['event_list'])\n",
    "\n",
    "# Pre-Pad the tokenized text with 0's\n",
    "data_ml['tokenized_event_list'] = list(pad_sequences(data_ml['tokenized_event_list']))\n",
    "data_ml['tbe_list'] = data_ml['tbe_list'].apply(lambda x: [y.total_seconds() for y in x])\n",
    "data_ml['tsst_list'] = data_ml['tsst_list'].apply(lambda x: [y.total_seconds() for y in x])\n",
    "\n",
    "data_ml['tbe_list_padded'] = list(pad_sequences(data_ml['tbe_list'], value=-1))\n",
    "data_ml['tsst_list_padded'] = list(pad_sequences(data_ml['tsst_list'], value=-1))"
   ]
  },
  {
   "cell_type": "markdown",
   "metadata": {},
   "source": [
    "### Create target variable"
   ]
  },
  {
   "cell_type": "code",
   "execution_count": 15,
   "metadata": {},
   "outputs": [],
   "source": [
    "decision_points = data_ml[((data_ml['event_name'] == 'showrooms_info_view') | (data_ml['event_name'] == 'showroom_appointment_step'))].index\n",
    "data_ml['decision_point'] = 0\n",
    "data_ml.loc[decision_points, 'decision_point'] = 1\n",
    "showroom_users = data_ml[data_ml['decision_point'] == 1]['session_id'].unique()\n",
    "data_ml['target'] = data_ml['session_id'].apply(lambda x: 1 if x in showroom_users else 0)"
   ]
  },
  {
   "cell_type": "markdown",
   "metadata": {},
   "source": [
    "### Truncate the sessions at its first decision point"
   ]
  },
  {
   "cell_type": "code",
   "execution_count": 16,
   "metadata": {},
   "outputs": [],
   "source": [
    "# based on the decision points, remove all prefixes from a session after the first decision point in that session\n",
    "def truncate_after_decision(session_data):\n",
    "    min_index = session_data.index[4]\n",
    "    # Check if there's a decision point in this session\n",
    "    if session_data['decision_point'].sum() > 0:\n",
    "        # Get the index of the first decision point\n",
    "        decision_index = session_data[session_data['decision_point']==1].index.min()\n",
    "        # Return data up to and including the decision point\n",
    "        return session_data.loc[min_index:decision_index-1]\n",
    "    else:\n",
    "        # Return the session data as is if there's no decision point\n",
    "        return session_data.loc[min_index:]"
   ]
  },
  {
   "cell_type": "code",
   "execution_count": 17,
   "metadata": {},
   "outputs": [],
   "source": [
    "# Group by session_id and apply the truncation\n",
    "truncated_sessions = data_ml.groupby('session_id').apply(truncate_after_decision).reset_index(drop=True)"
   ]
  },
  {
   "cell_type": "code",
   "execution_count": 18,
   "metadata": {},
   "outputs": [
    {
     "data": {
      "text/plain": [
       "target\n",
       "0    997941\n",
       "1     36981\n",
       "Name: count, dtype: int64"
      ]
     },
     "execution_count": 18,
     "metadata": {},
     "output_type": "execute_result"
    }
   ],
   "source": [
    "truncated_sessions['target'].value_counts()"
   ]
  },
  {
   "cell_type": "markdown",
   "metadata": {},
   "source": [
    "### train test split"
   ]
  },
  {
   "cell_type": "code",
   "execution_count": 19,
   "metadata": {},
   "outputs": [],
   "source": [
    "from imblearn.over_sampling import SMOTE\n",
    "from sklearn.model_selection import train_test_split\n",
    "from imblearn.over_sampling import RandomOverSampler\n",
    "from imblearn.under_sampling import RandomUnderSampler\n",
    "import numpy as np\n",
    "\n",
    "X = truncated_sessions[['tokenized_event_list', 'tbe_list_padded', 'tsst_list_padded']]\n",
    "y = truncated_sessions['target']\n",
    "\n",
    "X_flattened = np.array([np.concatenate([row[col] for col in X.columns]) for _, row in X.iterrows()])\n",
    "\n",
    "X_train_flat, X_test_flat, y_train, y_test = train_test_split(X_flattened, y, test_size=0.2, random_state=123)\n",
    "\n",
    "#smote = SMOTE(random_state=123)\n",
    "#X_train_flat_oversampled, y_train = smote.fit_resample(X_train_flat, y_train)\n",
    "target_0 = truncated_sessions['target'].value_counts()[0]\n",
    "#ros = RandomOverSampler(sampling_strategy={0: target_0, 1: round(target_0*0.2)})\n",
    "#X_train_flat_oversampled, y_train = ros.fit_resample(X_train_flat, y_train)\n",
    "rus = RandomUnderSampler(random_state=42)\n",
    "X_train_flat_oversampled, y_train = rus.fit_resample(X_train_flat, y_train)"
   ]
  },
  {
   "cell_type": "code",
   "execution_count": 20,
   "metadata": {},
   "outputs": [
    {
     "data": {
      "text/plain": [
       "target\n",
       "0    29586\n",
       "1    29586\n",
       "Name: count, dtype: int64"
      ]
     },
     "execution_count": 20,
     "metadata": {},
     "output_type": "execute_result"
    }
   ],
   "source": [
    "y_train.value_counts()"
   ]
  },
  {
   "cell_type": "markdown",
   "metadata": {},
   "source": [
    "### ML modelling"
   ]
  },
  {
   "cell_type": "markdown",
   "metadata": {},
   "source": [
    "Random Forrest Classifier"
   ]
  },
  {
   "cell_type": "code",
   "execution_count": 21,
   "metadata": {},
   "outputs": [
    {
     "name": "stdout",
     "output_type": "stream",
     "text": [
      "              precision    recall  f1-score   support\n",
      "\n",
      "           0       0.97      0.51      0.67    199590\n",
      "           1       0.04      0.57      0.08      7395\n",
      "\n",
      "    accuracy                           0.51    206985\n",
      "   macro avg       0.51      0.54      0.37    206985\n",
      "weighted avg       0.94      0.51      0.65    206985\n",
      "\n"
     ]
    }
   ],
   "source": [
    "from sklearn.model_selection import GridSearchCV\n",
    "from sklearn.preprocessing import StandardScaler\n",
    "from imblearn.over_sampling import SMOTE\n",
    "from sklearn.feature_selection import SelectFromModel\n",
    "from sklearn.ensemble import RandomForestClassifier\n",
    "from sklearn.metrics import classification_report\n",
    "\n",
    "# Feature scaling\n",
    "scaler = StandardScaler()\n",
    "X_train_scaled = scaler.fit_transform(X_train_flat_oversampled)\n",
    "X_test_scaled = scaler.transform(X_test_flat)\n",
    "\n",
    "# Handling class imbalance\n",
    "smote = SMOTE(random_state=123)\n",
    "X_train_resampled, y_train_resampled = smote.fit_resample(X_train_scaled, y_train)\n",
    "# Hyperparameter tuning\n",
    "param_grid = {\n",
    "    'n_estimators': [100, 200, 300],\n",
    "    'max_depth': [None, 10, 20, 30],\n",
    "    'min_samples_split': [2, 5, 10],\n",
    "    'min_samples_leaf': [1, 2, 4],\n",
    "    'max_features': ['auto', 'sqrt', 'log2']\n",
    "}\n",
    "grid_search = GridSearchCV(RandomForestClassifier(random_state=123), param_grid, cv=5)\n",
    "grid_search.fit(X_train_resampled, y_train_resampled)\n",
    "\n",
    "# Best model\n",
    "clf_best = grid_search.best_estimator_\n",
    "\n",
    "# Make predictions and evaluate the model\n",
    "y_pred = clf_best.predict(X_test_scaled)\n",
    "print(classification_report(y_test, y_pred))"
   ]
  },
  {
   "cell_type": "code",
   "execution_count": 22,
   "metadata": {},
   "outputs": [
    {
     "data": {
      "text/plain": [
       "{'bootstrap': True,\n",
       " 'ccp_alpha': 0.0,\n",
       " 'class_weight': None,\n",
       " 'criterion': 'gini',\n",
       " 'max_depth': 20,\n",
       " 'max_features': 'sqrt',\n",
       " 'max_leaf_nodes': None,\n",
       " 'max_samples': None,\n",
       " 'min_impurity_decrease': 0.0,\n",
       " 'min_samples_leaf': 2,\n",
       " 'min_samples_split': 2,\n",
       " 'min_weight_fraction_leaf': 0.0,\n",
       " 'monotonic_cst': None,\n",
       " 'n_estimators': 300,\n",
       " 'n_jobs': None,\n",
       " 'oob_score': False,\n",
       " 'random_state': 123,\n",
       " 'verbose': 0,\n",
       " 'warm_start': False}"
      ]
     },
     "execution_count": 22,
     "metadata": {},
     "output_type": "execute_result"
    }
   ],
   "source": [
    "params = clf_best.get_params()\n",
    "params"
   ]
  },
  {
   "cell_type": "code",
   "execution_count": 35,
   "metadata": {},
   "outputs": [
    {
     "name": "stdout",
     "output_type": "stream",
     "text": [
      "AUC-ROC: 0.5395664103298172\n"
     ]
    }
   ],
   "source": [
    "y_pred = clf_best.predict(X_test_scaled)\n",
    "auc_roc = roc_auc_score(y_test, y_pred)\n",
    "print(f\"AUC-ROC: {auc_roc}\")"
   ]
  },
  {
   "cell_type": "markdown",
   "metadata": {},
   "source": [
    "LSTM Classifier"
   ]
  },
  {
   "cell_type": "code",
   "execution_count": 23,
   "metadata": {},
   "outputs": [
    {
     "name": "stdout",
     "output_type": "stream",
     "text": [
      "(59172, 50, 3)\n",
      "Epoch 1/5\n",
      "370/370 [==============================] - 18s 38ms/step - loss: 0.6604 - auc: 0.5226 - val_loss: 0.9238 - val_auc: 0.0000e+00\n",
      "Epoch 2/5\n",
      "370/370 [==============================] - 13s 36ms/step - loss: 0.6589 - auc: 0.5297 - val_loss: 0.9828 - val_auc: 0.0000e+00\n",
      "Epoch 3/5\n",
      "370/370 [==============================] - 13s 36ms/step - loss: 0.6583 - auc: 0.5323 - val_loss: 0.9068 - val_auc: 0.0000e+00\n",
      "Epoch 4/5\n",
      "370/370 [==============================] - 13s 36ms/step - loss: 0.6581 - auc: 0.5350 - val_loss: 0.9842 - val_auc: 0.0000e+00\n",
      "Epoch 5/5\n",
      "370/370 [==============================] - 15s 39ms/step - loss: 0.6575 - auc: 0.5399 - val_loss: 0.9749 - val_auc: 0.0000e+00\n",
      "6469/6469 [==============================] - 46s 7ms/step - loss: 0.4864 - auc: 0.5401\n",
      "Test accuracy: 0.5401233434677124\n"
     ]
    }
   ],
   "source": [
    "import tensorflow as tf\n",
    "\n",
    "# Reshape the data back to its original structure for the LSTM\n",
    "n_features = 3  # Assuming each original sample has 3 features\n",
    "n_timesteps = 50  # Assuming each original sample has 50 time steps\n",
    "X_train_oversampled = X_train_flat_oversampled.reshape(-1, n_timesteps, n_features)\n",
    "X_test = X_test_flat.reshape(-1, n_timesteps, n_features)\n",
    "print(X_train_oversampled.shape)\n",
    "# Define the LSTM model\n",
    "model = tf.keras.models.Sequential([\n",
    "    tf.keras.layers.LSTM(32, return_sequences=True, input_shape=(50,3)),  # Adjust the number of units and input_shape based on your data\n",
    "    tf.keras.layers.LSTM(16),#, return_sequences=True),\n",
    "    #tf.keras.layers.Dropout(0.2),\n",
    "    #tf.keras.layers.LSTM(25),\n",
    "    #tf.keras.layers.Dropout(0.2),\n",
    "    tf.keras.layers.Dense(1, activation='sigmoid')  # Use 'sigmoid' for binary classification and 'softmax' for multi-class\n",
    "])\n",
    "\n",
    "# Compile the model\n",
    "model.compile(optimizer='adam',\n",
    "              loss='binary_crossentropy',  # Use 'binary_crossentrSopy' for binary classification and 'categorical_crossentropy' for multi-class\n",
    "              metrics=[tf.keras.metrics.AUC()])\n",
    "\n",
    "# Train the model\n",
    "model.fit(X_train_oversampled, y_train, epochs=5, batch_size=128, validation_split=0.2)\n",
    "\n",
    "# Evaluate the model\n",
    "loss, accuracy = model.evaluate(X_test, y_test)\n",
    "print(f\"Test accuracy: {accuracy}\")"
   ]
  },
  {
   "cell_type": "code",
   "execution_count": 24,
   "metadata": {},
   "outputs": [],
   "source": [
    "#model.save('../models/LSTM-10epoch-bs128')"
   ]
  },
  {
   "cell_type": "code",
   "execution_count": 25,
   "metadata": {},
   "outputs": [],
   "source": [
    "y_prob = model.predict(X_test)"
   ]
  },
  {
   "cell_type": "code",
   "execution_count": 26,
   "metadata": {},
   "outputs": [
    {
     "data": {
      "text/plain": [
       "array([18])"
      ]
     },
     "execution_count": 26,
     "metadata": {},
     "output_type": "execute_result"
    }
   ],
   "source": [
    "y_pred = (y_prob > 0.5).astype(int)\n",
    "sum(y_pred)"
   ]
  },
  {
   "cell_type": "code",
   "execution_count": 27,
   "metadata": {},
   "outputs": [
    {
     "name": "stdout",
     "output_type": "stream",
     "text": [
      "AUC-ROC: 0.5402353343624207\n"
     ]
    }
   ],
   "source": [
    "from sklearn.metrics import roc_auc_score\n",
    "auc_roc = roc_auc_score(y_test, y_prob)\n",
    "print(f\"AUC-ROC: {auc_roc}\")"
   ]
  },
  {
   "cell_type": "code",
   "execution_count": 28,
   "metadata": {},
   "outputs": [
    {
     "data": {
      "image/png": "[encoded data removed]",
      "text/plain": [
       "<Figure size 640x480 with 1 Axes>"
      ]
     },
     "metadata": {},
     "output_type": "display_data"
    }
   ],
   "source": [
    "import matplotlib.pyplot as plt\n",
    "from sklearn.metrics import roc_curve\n",
    "\n",
    "fpr, tpr, thresholds = roc_curve(y_test, y_prob)\n",
    "plt.plot(fpr, tpr, color='darkorange', lw=2, label=f'ROC curve (area = {auc_roc:.2f})')\n",
    "plt.plot([0, 1], [0, 1], color='navy', lw=2, linestyle='--')\n",
    "plt.xlabel('False Positive Rate')\n",
    "plt.ylabel('True Positive Rate')\n",
    "plt.title('Receiver Operating Characteristic')\n",
    "plt.legend(loc=\"lower right\")\n",
    "plt.show()"
   ]
  },
  {
   "cell_type": "markdown",
   "metadata": {},
   "source": [
    "### ULMFiT pre-trained model"
   ]
  },
  {
   "cell_type": "code",
   "execution_count": 29,
   "metadata": {},
   "outputs": [],
   "source": [
    "def combine_features(row):\n",
    "    # Combine all tokens into a single string\n",
    "    events_str = ' '.join(row['event_list'])\n",
    "    \n",
    "    # Convert numerical features into string and concatenate them with a label for clarity\n",
    "    session_start_str = ' '.join(['SESSION_START_' + str(ss) for ss in row['tsst_list']])\n",
    "    between_activities_str = ' '.join(['BETWEEN_ACTIVITIES_' + str(ba) for ba in row['tbe_list']])\n",
    "    \n",
    "    # Combine everything into a single string\n",
    "    return ' '.join([events_str, session_start_str, between_activities_str])\n",
    "\n",
    "truncated_sessions['combined'] = truncated_sessions.apply(combine_features, axis=1)"
   ]
  },
  {
   "cell_type": "code",
   "execution_count": 30,
   "metadata": {},
   "outputs": [],
   "source": [
    "df_pt = truncated_sessions[['combined', 'target']]\n",
    "\n",
    "minority = df_pt[df_pt['target']==1]\n",
    "\n",
    "minority_oversampled = minority.sample(n=222264, replace=True)\n",
    "\n",
    "df_oversampled = pd.concat([df_pt, minority_oversampled])"
   ]
  },
  {
   "cell_type": "code",
   "execution_count": 31,
   "metadata": {},
   "outputs": [
    {
     "name": "stdout",
     "output_type": "stream",
     "text": [
      "Due to IPython and Windows limitation, python multiprocessing isn't available now.\n",
      "So `n_workers` has to be changed to 0 to avoid getting stuck\n"
     ]
    },
    {
     "data": {
      "text/html": [
       "\n",
       "<style>\n",
       "    /* Turns off some styling */\n",
       "    progress {\n",
       "        /* gets rid of default border in Firefox and Opera. */\n",
       "        border: none;\n",
       "        /* Needs to be in here for Safari polyfill so background images work as expected. */\n",
       "        background-size: auto;\n",
       "    }\n",
       "    progress:not([value]), progress:not([value])::-webkit-progress-bar {\n",
       "        background: repeating-linear-gradient(45deg, #7e7e7e, #7e7e7e 10px, #5c5c5c 10px, #5c5c5c 20px);\n",
       "    }\n",
       "    .progress-bar-interrupted, .progress-bar-interrupted::-webkit-progress-bar {\n",
       "        background: #F44336;\n",
       "    }\n",
       "</style>\n"
      ],
      "text/plain": [
       "<IPython.core.display.HTML object>"
      ]
     },
     "metadata": {},
     "output_type": "display_data"
    },
    {
     "data": {
      "text/html": [
       "<table border=\"1\" class=\"dataframe\">\n",
       "  <thead>\n",
       "    <tr style=\"text-align: left;\">\n",
       "      <th>epoch</th>\n",
       "      <th>train_loss</th>\n",
       "      <th>valid_loss</th>\n",
       "      <th>accuracy</th>\n",
       "      <th>time</th>\n",
       "    </tr>\n",
       "  </thead>\n",
       "  <tbody>\n",
       "    <tr>\n",
       "      <td>0</td>\n",
       "      <td>0.257459</td>\n",
       "      <td>0.199483</td>\n",
       "      <td>0.943246</td>\n",
       "      <td>3:19:00</td>\n",
       "    </tr>\n",
       "  </tbody>\n",
       "</table>"
      ],
      "text/plain": [
       "<IPython.core.display.HTML object>"
      ]
     },
     "metadata": {},
     "output_type": "display_data"
    },
    {
     "data": {
      "text/html": [
       "\n",
       "<style>\n",
       "    /* Turns off some styling */\n",
       "    progress {\n",
       "        /* gets rid of default border in Firefox and Opera. */\n",
       "        border: none;\n",
       "        /* Needs to be in here for Safari polyfill so background images work as expected. */\n",
       "        background-size: auto;\n",
       "    }\n",
       "    progress:not([value]), progress:not([value])::-webkit-progress-bar {\n",
       "        background: repeating-linear-gradient(45deg, #7e7e7e, #7e7e7e 10px, #5c5c5c 10px, #5c5c5c 20px);\n",
       "    }\n",
       "    .progress-bar-interrupted, .progress-bar-interrupted::-webkit-progress-bar {\n",
       "        background: #F44336;\n",
       "    }\n",
       "</style>\n"
      ],
      "text/plain": [
       "<IPython.core.display.HTML object>"
      ]
     },
     "metadata": {},
     "output_type": "display_data"
    },
    {
     "data": {
      "text/html": [
       "<table border=\"1\" class=\"dataframe\">\n",
       "  <thead>\n",
       "    <tr style=\"text-align: left;\">\n",
       "      <th>epoch</th>\n",
       "      <th>train_loss</th>\n",
       "      <th>valid_loss</th>\n",
       "      <th>accuracy</th>\n",
       "      <th>time</th>\n",
       "    </tr>\n",
       "  </thead>\n",
       "  <tbody>\n",
       "    <tr>\n",
       "      <td>0</td>\n",
       "      <td>0.162445</td>\n",
       "      <td>0.238315</td>\n",
       "      <td>0.949832</td>\n",
       "      <td>9:47:52</td>\n",
       "    </tr>\n",
       "  </tbody>\n",
       "</table>"
      ],
      "text/plain": [
       "<IPython.core.display.HTML object>"
      ]
     },
     "metadata": {},
     "output_type": "display_data"
    }
   ],
   "source": [
    "from fastai.text.all import *\n",
    "\n",
    "dls = TextDataLoaders.from_df(df_oversampled, text_col='combined', label_col='target', valid_pct=0.2, seed=42)\n",
    "\n",
    "# Step 4: Train the ULMFiT Model\n",
    "learn = text_classifier_learner(dls, AWD_LSTM, drop_mult=0.5, metrics=accuracy)\n",
    "learn.fine_tune(1)"
   ]
  },
  {
   "cell_type": "code",
   "execution_count": 32,
   "metadata": {},
   "outputs": [
    {
     "name": "stdout",
     "output_type": "stream",
     "text": [
      "Due to IPython and Windows limitation, python multiprocessing isn't available now.\n",
      "So `n_workers` has to be changed to 0 to avoid getting stuck\n"
     ]
    }
   ],
   "source": [
    "test_df_pt = df_pt[:50000]\n",
    "test_dls = TextDataLoaders.from_df(test_df_pt, text_col='combined', label_col='target', is_lm=False, valid_pct=0)"
   ]
  },
  {
   "cell_type": "code",
   "execution_count": 33,
   "metadata": {},
   "outputs": [],
   "source": [
    "import torch\n",
    "\n",
    "# Switch to evaluation mode\n",
    "learn.model.eval()\n",
    "\n",
    "# Store predictions and actual labels\n",
    "preds_pt = []\n",
    "y_true_pt = []\n",
    "\n",
    "# Iterate over the test set\n",
    "for batch in test_dls.train:\n",
    "    with torch.no_grad():\n",
    "        outputs = learn.model(batch[0])\n",
    "        preds_pt.append(outputs[0].softmax(dim=-1)[:,1])  # Probabilities for the positive class\n",
    "        y_true_pt.append(batch[1])\n",
    "\n",
    "# Concatenate all batches\n",
    "preds_pt = torch.cat(preds_pt).cpu().numpy()\n",
    "y_true_pt = torch.cat(y_true_pt).cpu().numpy()\n"
   ]
  },
  {
   "cell_type": "code",
   "execution_count": 34,
   "metadata": {},
   "outputs": [
    {
     "name": "stdout",
     "output_type": "stream",
     "text": [
      "AUC-ROC: 0.5019\n"
     ]
    }
   ],
   "source": [
    "from sklearn.metrics import roc_auc_score\n",
    "\n",
    "# Calculate AUC-ROC\n",
    "auc_roc = roc_auc_score(y_true_pt, preds_pt)\n",
    "print(f\"AUC-ROC: {auc_roc:.4f}\")"
   ]
  }
 ],
 "metadata": {
  "kernelspec": {
   "display_name": "Python 3.9.18 ('MT')",
   "language": "python",
   "name": "python3"
  },
  "language_info": {
   "codemirror_mode": {
    "name": "ipython",
    "version": 3
   },
   "file_extension": ".py",
   "mimetype": "text/x-python",
   "name": "python",
   "nbconvert_exporter": "python",
   "pygments_lexer": "ipython3",
   "version": "3.9.18"
  },
  "vscode": {
   "interpreter": {
    "hash": "9defc49fc9914e153601c88ffb5707999841e280f88b56f4a0feb4e2ae5b5c2f"
   }
  }
 },
 "nbformat": 4,
 "nbformat_minor": 2
}
