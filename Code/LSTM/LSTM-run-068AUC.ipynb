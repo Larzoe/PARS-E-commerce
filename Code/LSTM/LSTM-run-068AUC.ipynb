{
 "cells": [
  {
   "cell_type": "code",
   "execution_count": 1,
   "metadata": {},
   "outputs": [],
   "source": [
    "import pandas as pd\n",
    "from google.cloud import bigquery\n",
    "from google.oauth2 import service_account\n",
    "import warnings\n",
    "warnings.filterwarnings(\"ignore\")\n",
    "from dotenv import load_dotenv, find_dotenv\n",
    "load_dotenv(find_dotenv())\n",
    "from tqdm import tqdm"
   ]
  },
  {
   "cell_type": "markdown",
   "metadata": {},
   "source": [
    "## Import data"
   ]
  },
  {
   "cell_type": "code",
   "execution_count": 4,
   "metadata": {},
   "outputs": [],
   "source": [
    "credentials = service_account.Credentials.from_service_account_file('bigquery-production.json')\n",
    "project_id = 'production-247608'\n",
    "client = bigquery.Client(credentials= credentials,project=project_id)\n",
    "\n",
    "query_job = client.query(\"\"\"\n",
    "    SELECT user_pseudo_id, session_id, timestamp_local, event_name, clean_path\n",
    "    FROM `production-247608.dataform.ga4_raw_flat_nl` \n",
    "    WHERE date >= '2024-05-10' \"\"\")\n",
    "raw_data = query_job.result().to_dataframe()"
   ]
  },
  {
   "cell_type": "markdown",
   "metadata": {},
   "source": [
    "## Preprocessing"
   ]
  },
  {
   "cell_type": "code",
   "execution_count": 5,
   "metadata": {},
   "outputs": [],
   "source": [
    "events = ['session_start', 'showrooms_info_view', 'showroom_appointment_step', 'category_banner_view', 'inspiratie_view',\n",
    "          'advies_view', 'mijnsanitair_view', 'view_item_list', 'view_item', 'add_to_cart', \n",
    "          'remove_from_cart', 'begin_checkout', 'view_cart', 'add_to_wishlist', 'view_search_results',\n",
    "          'product_compare']"
   ]
  },
  {
   "cell_type": "code",
   "execution_count": 6,
   "metadata": {},
   "outputs": [],
   "source": [
    "data_cleaned = raw_data[raw_data['event_name'].isin(events)]"
   ]
  },
  {
   "cell_type": "code",
   "execution_count": 7,
   "metadata": {},
   "outputs": [],
   "source": [
    "data_cleaned = data_cleaned.sort_values(['session_id','timestamp_local']).reset_index(drop=True)\n",
    "# drop row if the previous row has the same session_id, event_name and clean_path \n",
    "mask = (data_cleaned['session_id'] == data_cleaned['session_id'].shift(1)) & \\\n",
    "        (data_cleaned['event_name'] == data_cleaned['event_name'].shift(1)) & \\\n",
    "        (data_cleaned['clean_path'] == data_cleaned['clean_path'].shift(1))\n",
    "data_cleaned = data_cleaned[~mask]"
   ]
  },
  {
   "cell_type": "markdown",
   "metadata": {},
   "source": [
    "### Minimum session time"
   ]
  },
  {
   "cell_type": "code",
   "execution_count": 8,
   "metadata": {},
   "outputs": [],
   "source": [
    "session_start_time = data_cleaned.groupby('session_id')['timestamp_local'].min()\n",
    "session_end_time = data_cleaned.groupby('session_id')['timestamp_local'].max()\n",
    "session_length = pd.merge(session_start_time, session_end_time, on='session_id', how='left', suffixes=(' start', ' end'))\n",
    "session_length['session_length'] = session_length['timestamp_local end']-session_length['timestamp_local start']\n",
    "minimum_30_seconds = session_length[session_length['session_length'] > '0 days 00:00:30']\n",
    "data = data_cleaned[data_cleaned['session_id'].isin(minimum_30_seconds.index)]\n",
    "data = data.sort_values(by=['session_id','timestamp_local']).reset_index(drop=True)"
   ]
  },
  {
   "cell_type": "markdown",
   "metadata": {},
   "source": [
    "### Add variables"
   ]
  },
  {
   "cell_type": "code",
   "execution_count": 9,
   "metadata": {},
   "outputs": [],
   "source": [
    "data_sorted = data.sort_values(['session_id','timestamp_local']).reset_index(drop=True)\n",
    "# create a column with the time between the consecutive events if the session ids are the same otherwise the time is pd.NaT\n",
    "data_sorted['time_between_events'] = data_sorted['timestamp_local'].diff().where(data_sorted['session_id'].eq(data_sorted['session_id'].shift())).fillna(pd.Timedelta(seconds=0))"
   ]
  },
  {
   "cell_type": "code",
   "execution_count": 10,
   "metadata": {},
   "outputs": [],
   "source": [
    "# create a column with the time between the current event and the start of the session\n",
    "data_sorted = data_sorted.sort_values(['session_id','timestamp_local']).reset_index(drop=True)\n",
    "data_sorted['time_since_session_start'] = data_sorted['timestamp_local'] - data_sorted.groupby('session_id')['timestamp_local'].transform('first')"
   ]
  },
  {
   "cell_type": "code",
   "execution_count": 11,
   "metadata": {},
   "outputs": [],
   "source": [
    "data_sorted = data_sorted.sort_values(['session_id','timestamp_local']).reset_index(drop=True)\n",
    "data_sorted['number of events'] =  data_sorted.groupby('session_id').cumcount() + 1\n",
    "data_sorted['total number of events'] = data_sorted.groupby('session_id')['number of events'].transform('max')"
   ]
  },
  {
   "cell_type": "code",
   "execution_count": 12,
   "metadata": {},
   "outputs": [],
   "source": [
    "data_min_events = data_sorted[(data_sorted['total number of events'] >= 5) & (data_sorted['total number of events'] <= 20)]"
   ]
  },
  {
   "cell_type": "markdown",
   "metadata": {},
   "source": [
    "## ML preprocessing"
   ]
  },
  {
   "cell_type": "markdown",
   "metadata": {},
   "source": [
    "### Tokenize and pad sequences"
   ]
  },
  {
   "cell_type": "code",
   "execution_count": 13,
   "metadata": {},
   "outputs": [
    {
     "name": "stderr",
     "output_type": "stream",
     "text": [
      "100%|██████████| 178261/178261 [11:22<00:00, 261.30it/s]\n"
     ]
    }
   ],
   "source": [
    "data_ml = data_min_events.sort_values(['session_id','timestamp_local']).reset_index(drop=True)\n",
    "\n",
    "if 'event_list' not in data_ml:\n",
    "    data_ml['event_list'] = [[] for _ in range(len(data_ml))]\n",
    "if 'tsst_list' not in data_ml:\n",
    "    data_ml['tsst_list'] = [[] for _ in range(len(data_ml))]\n",
    "if 'tbe_list' not in data_ml:\n",
    "    data_ml['tbe_list'] = [[] for _ in range(len(data_ml))]\n",
    "if 'prefix_id' not in data_ml:\n",
    "    data_ml['prefix_id'] = [None for _ in range(len(data_ml))]\n",
    "\n",
    "users = data_ml['session_id'].unique()\n",
    "for user in tqdm(users):\n",
    "    user_data = data_ml[data_ml['session_id'] == user]\n",
    "    prefix_extension = 0\n",
    "    event_list = []\n",
    "    tsst_list = []\n",
    "    tbe_list = []\n",
    "    for idx in user_data.index:\n",
    "        data_ml.at[idx, 'prefix_id'] = f'{user}_{prefix_extension}'\n",
    "        prefix_extension += 1\n",
    "\n",
    "        event_list.append(data_ml.at[idx, 'event_name'])\n",
    "        data_ml.at[idx, 'event_list'] = event_list.copy()\n",
    "        \n",
    "        tsst_list.append(data_ml.at[idx, 'time_since_session_start'])\n",
    "        data_ml.at[idx, 'tsst_list'] = tsst_list.copy()\n",
    "\n",
    "        tbe_list.append(data_ml.at[idx, 'time_between_events'])\n",
    "        data_ml.at[idx, 'tbe_list'] = tbe_list.copy()"
   ]
  },
  {
   "cell_type": "code",
   "execution_count": 20,
   "metadata": {},
   "outputs": [],
   "source": [
    "from tensorflow.keras.preprocessing.text import Tokenizer\n",
    "custom_filters = '!\\\"#$%&()*+,-./:;<=>?@[\\\\]^`{|}~\\t\\n'\n",
    "tokenizer = Tokenizer(filters=custom_filters)\n",
    "from tensorflow.keras.preprocessing.sequence import pad_sequences\n",
    "\n",
    "\n",
    "# Tokenize the event_list to numbers = integer tokenization\n",
    "events_for_tokenization = []\n",
    "for event_list in data_ml['event_list']:\n",
    "    events_for_tokenization += event_list\n",
    "    \n",
    "tokenizer.fit_on_texts(events_for_tokenization)\n",
    "\n",
    "data_ml['tokenized_event_list'] = data_ml['event_list'].apply(lambda x: [tokenizer.texts_to_sequences([y])[0][0] for y in x])\n",
    "\n",
    "# Pre-Pad the tokenized text with 0's\n",
    "data_ml['tokenized_event_list'] = list(pad_sequences(data_ml['tokenized_event_list'], value=-1))\n",
    "data_ml['tbe_list'] = data_ml['tbe_list'].apply(lambda x: [y.total_seconds() for y in x])\n",
    "data_ml['tsst_list'] = data_ml['tsst_list'].apply(lambda x: [y.total_seconds() for y in x])\n",
    "\n",
    "data_ml['tbe_list_padded'] = list(pad_sequences(data_ml['tbe_list'], value=-1))\n",
    "data_ml['tsst_list_padded'] = list(pad_sequences(data_ml['tsst_list'], value=-1))"
   ]
  },
  {
   "cell_type": "markdown",
   "metadata": {},
   "source": [
    "### Create target variable"
   ]
  },
  {
   "cell_type": "code",
   "execution_count": 21,
   "metadata": {},
   "outputs": [],
   "source": [
    "decision_points = data_ml[((data_ml['event_name'] == 'showrooms_info_view') | (data_ml['event_name'] == 'showroom_appointment_step'))].index\n",
    "data_ml['decision_point'] = 0\n",
    "data_ml.loc[decision_points, 'decision_point'] = 1\n",
    "showroom_users = data_ml[data_ml['decision_point'] == 1]['session_id'].unique()\n",
    "data_ml['target'] = data_ml['session_id'].apply(lambda x: 1 if x in showroom_users else 0)"
   ]
  },
  {
   "cell_type": "markdown",
   "metadata": {},
   "source": [
    "### Truncate the sessions at its first decision point"
   ]
  },
  {
   "cell_type": "code",
   "execution_count": 22,
   "metadata": {},
   "outputs": [],
   "source": [
    "# based on the decision points, remove all prefixes from a session after the first decision point in that session\n",
    "def truncate_after_decision(session_data):\n",
    "    # Check if there's a decision point in this session\n",
    "    if session_data['decision_point'].sum() > 0:\n",
    "        # Get the index of the first decision point\n",
    "        decision_index = session_data[session_data['decision_point']==1].index.min()\n",
    "        # Return data up to and including the decision point\n",
    "        return session_data.loc[:decision_index-1]\n",
    "    else:\n",
    "        # Return the session data as is if there's no decision point\n",
    "        return session_data"
   ]
  },
  {
   "cell_type": "code",
   "execution_count": 23,
   "metadata": {},
   "outputs": [],
   "source": [
    "# Group by session_id and apply the truncation\n",
    "truncated_sessions = data_ml.groupby('session_id').apply(truncate_after_decision).reset_index(drop=True)"
   ]
  },
  {
   "cell_type": "code",
   "execution_count": 24,
   "metadata": {},
   "outputs": [
    {
     "data": {
      "text/plain": [
       "target\n",
       "0    1351134\n",
       "1      64668\n",
       "Name: count, dtype: int64"
      ]
     },
     "execution_count": 24,
     "metadata": {},
     "output_type": "execute_result"
    }
   ],
   "source": [
    "truncated_sessions['target'].value_counts()"
   ]
  },
  {
   "cell_type": "markdown",
   "metadata": {},
   "source": [
    "### train test split"
   ]
  },
  {
   "cell_type": "code",
   "execution_count": 25,
   "metadata": {},
   "outputs": [],
   "source": [
    "from imblearn.over_sampling import SMOTE\n",
    "from sklearn.model_selection import train_test_split\n",
    "import numpy as np\n",
    "from imblearn.over_sampling import RandomOverSampler\n",
    "from imblearn.under_sampling import RandomUnderSampler\n",
    "\n",
    "X = truncated_sessions[['tokenized_event_list', 'tbe_list_padded', 'tsst_list_padded']]\n",
    "y = truncated_sessions['target']\n",
    "\n",
    "X_flattened = np.array([np.concatenate([row[col] for col in X.columns]) for _, row in X.iterrows()])\n",
    "\n",
    "X_train_flat, X_test_flat, y_train, y_test = train_test_split(X_flattened, y, test_size=0.2, random_state=123)\n",
    "\n",
    "#smote = SMOTE(random_state=123)\n",
    "#X_train_flat_oversampled, y_train = smote.fit_resample(X_train_flat, y_train)\n",
    "target_0 = truncated_sessions['target'].value_counts()[0]\n",
    "ros = RandomOverSampler(sampling_strategy={0: target_0, 1: round(target_0*0.4)})\n",
    "X_train_flat_oversampled, y_train = ros.fit_resample(X_train_flat, y_train)\n",
    "#rus = RandomUnderSampler(random_state=42)\n",
    "#X_train_flat_oversampled, y_train = rus.fit_resample(X_train_flat, y_train)"
   ]
  },
  {
   "cell_type": "code",
   "execution_count": 28,
   "metadata": {},
   "outputs": [
    {
     "data": {
      "text/plain": [
       "target\n",
       "0    1351134\n",
       "1     540454\n",
       "Name: count, dtype: int64"
      ]
     },
     "execution_count": 28,
     "metadata": {},
     "output_type": "execute_result"
    }
   ],
   "source": [
    "y_train.value_counts()"
   ]
  },
  {
   "cell_type": "code",
   "execution_count": 31,
   "metadata": {},
   "outputs": [
    {
     "data": {
      "text/plain": [
       "(1415802, 3)"
      ]
     },
     "execution_count": 31,
     "metadata": {},
     "output_type": "execute_result"
    }
   ],
   "source": [
    "X.shape"
   ]
  },
  {
   "cell_type": "markdown",
   "metadata": {},
   "source": [
    "### ML modelling"
   ]
  },
  {
   "cell_type": "markdown",
   "metadata": {},
   "source": [
    "LSTM Classifier"
   ]
  },
  {
   "cell_type": "code",
   "execution_count": 34,
   "metadata": {},
   "outputs": [
    {
     "name": "stdout",
     "output_type": "stream",
     "text": [
      "(1891588, 20, 3)\n",
      "Epoch 1/15\n",
      "2956/2956 [==============================] - 111s 36ms/step - loss: 0.3306 - auc_2: 0.6467 - val_loss: 2.0817 - val_auc_2: 0.0000e+00\n",
      "Epoch 2/15\n",
      "2956/2956 [==============================] - 109s 37ms/step - loss: 0.3236 - auc_2: 0.6657 - val_loss: 2.1264 - val_auc_2: 0.0000e+00\n",
      "Epoch 3/15\n",
      "2956/2956 [==============================] - 112s 38ms/step - loss: 0.3218 - auc_2: 0.6724 - val_loss: 2.0908 - val_auc_2: 0.0000e+00\n",
      "Epoch 4/15\n",
      "2956/2956 [==============================] - 114s 39ms/step - loss: 0.3211 - auc_2: 0.6758 - val_loss: 2.0526 - val_auc_2: 0.0000e+00\n",
      "Epoch 5/15\n",
      "2956/2956 [==============================] - 117s 39ms/step - loss: 0.3208 - auc_2: 0.6779 - val_loss: 2.0456 - val_auc_2: 0.0000e+00\n",
      "Epoch 6/15\n",
      "2956/2956 [==============================] - 120s 41ms/step - loss: 0.3205 - auc_2: 0.6793 - val_loss: 2.0748 - val_auc_2: 0.0000e+00\n",
      "Epoch 7/15\n",
      "2956/2956 [==============================] - 122s 41ms/step - loss: 0.3204 - auc_2: 0.6801 - val_loss: 2.0338 - val_auc_2: 0.0000e+00\n",
      "Epoch 8/15\n",
      "2956/2956 [==============================] - 122s 41ms/step - loss: 0.3202 - auc_2: 0.6810 - val_loss: 2.0943 - val_auc_2: 0.0000e+00\n",
      "Epoch 9/15\n",
      "2956/2956 [==============================] - 124s 42ms/step - loss: 0.3201 - auc_2: 0.6816 - val_loss: 2.0922 - val_auc_2: 0.0000e+00\n",
      "Epoch 10/15\n",
      "2956/2956 [==============================] - 124s 42ms/step - loss: 0.3200 - auc_2: 0.6823 - val_loss: 2.0668 - val_auc_2: 0.0000e+00\n",
      "Epoch 11/15\n",
      "2956/2956 [==============================] - 124s 42ms/step - loss: 0.3198 - auc_2: 0.6829 - val_loss: 2.0966 - val_auc_2: 0.0000e+00\n",
      "Epoch 12/15\n",
      "2956/2956 [==============================] - 126s 43ms/step - loss: 0.3198 - auc_2: 0.6833 - val_loss: 2.0414 - val_auc_2: 0.0000e+00\n",
      "Epoch 13/15\n",
      "2956/2956 [==============================] - 127s 43ms/step - loss: 0.3196 - auc_2: 0.6841 - val_loss: 2.0453 - val_auc_2: 0.0000e+00\n",
      "Epoch 14/15\n",
      "2956/2956 [==============================] - 130s 44ms/step - loss: 0.3195 - auc_2: 0.6846 - val_loss: 2.0512 - val_auc_2: 0.0000e+00\n",
      "Epoch 15/15\n",
      "2956/2956 [==============================] - 130s 44ms/step - loss: 0.3194 - auc_2: 0.6853 - val_loss: 2.0710 - val_auc_2: 0.0000e+00\n",
      "8849/8849 [==============================] - 43s 5ms/step - loss: 0.1977 - auc_2: 0.6801\n",
      "Test accuracy: 0.6800636053085327\n"
     ]
    }
   ],
   "source": [
    "import tensorflow as tf\n",
    "\n",
    "# Reshape the data back to its original structure for the LSTM\n",
    "n_features = 3  \n",
    "n_timesteps = 20\n",
    "X_train_oversampled = X_train_flat_oversampled.reshape(-1, n_timesteps, n_features)\n",
    "X_test = X_test_flat.reshape(-1, n_timesteps, n_features)\n",
    "print(X_train_oversampled.shape)\n",
    "# Define the LSTM model\n",
    "model = tf.keras.models.Sequential([\n",
    "    tf.keras.layers.LSTM(16, return_sequences=True, input_shape=(20,3)),\n",
    "    tf.keras.layers.LSTM(16, return_sequences=True),\n",
    "    tf.keras.layers.Dropout(0.2),\n",
    "    tf.keras.layers.LSTM(8),\n",
    "    tf.keras.layers.Dropout(0.2),\n",
    "    tf.keras.layers.Dense(1, activation='sigmoid') \n",
    "])\n",
    "\n",
    "# Compile the model\n",
    "model.compile(optimizer='adam',\n",
    "              loss='binary_crossentropy', \n",
    "              metrics=[tf.keras.metrics.AUC()])\n",
    "\n",
    "# Train the model\n",
    "model.fit(X_train_oversampled, y_train, epochs=15, batch_size=512, validation_split=0.2)\n",
    "\n",
    "# Evaluate the model\n",
    "loss, accuracy = model.evaluate(X_test, y_test)\n",
    "print(f\"Test accuracy: {accuracy}\")"
   ]
  },
  {
   "cell_type": "code",
   "execution_count": 35,
   "metadata": {},
   "outputs": [],
   "source": [
    "model.save('LSTM-068AUC.keras')"
   ]
  },
  {
   "cell_type": "code",
   "execution_count": 36,
   "metadata": {},
   "outputs": [],
   "source": [
    "y_prob = model.predict(X_test)"
   ]
  },
  {
   "cell_type": "code",
   "execution_count": 37,
   "metadata": {},
   "outputs": [],
   "source": [
    "y_pred = (y_prob > 0.5).astype(int)"
   ]
  },
  {
   "cell_type": "code",
   "execution_count": 38,
   "metadata": {},
   "outputs": [
    {
     "name": "stdout",
     "output_type": "stream",
     "text": [
      "AUC-ROC: 0.6801130789790986\n"
     ]
    }
   ],
   "source": [
    "from sklearn.metrics import roc_auc_score\n",
    "auc_roc = roc_auc_score(y_test, y_prob)\n",
    "print(f\"AUC-ROC: {auc_roc}\")"
   ]
  },
  {
   "cell_type": "code",
   "execution_count": 39,
   "metadata": {},
   "outputs": [
    {
     "data": {
      "image/png": "[encoded data removed]",
      "text/plain": [
       "<Figure size 640x480 with 1 Axes>"
      ]
     },
     "metadata": {},
     "output_type": "display_data"
    }
   ],
   "source": [
    "import matplotlib.pyplot as plt\n",
    "from sklearn.metrics import roc_curve\n",
    "\n",
    "fpr, tpr, thresholds = roc_curve(y_test, y_prob)\n",
    "plt.plot(fpr, tpr, color='darkorange', lw=2, label=f'ROC curve (area = {auc_roc:.2f})')\n",
    "plt.plot([0, 1], [0, 1], color='navy', lw=2, linestyle='--')\n",
    "plt.xlabel('False Positive Rate')\n",
    "plt.ylabel('True Positive Rate')\n",
    "plt.title('Receiver Operating Characteristic')\n",
    "plt.legend(loc=\"lower right\")\n",
    "plt.show()"
   ]
  },
  {
   "cell_type": "markdown",
   "metadata": {},
   "source": [
    "## Import model"
   ]
  },
  {
   "cell_type": "code",
   "execution_count": 41,
   "metadata": {},
   "outputs": [],
   "source": [
    "model_loaded = tf.keras.models.load_model('../models/LSTM-20e-128bs')"
   ]
  },
  {
   "cell_type": "code",
   "execution_count": 42,
   "metadata": {},
   "outputs": [
    {
     "name": "stdout",
     "output_type": "stream",
     "text": [
      "[74005]\n",
      "AUC-ROC: 0.48829130207069094\n"
     ]
    }
   ],
   "source": [
    "y_prob = model_loaded.predict(X_test)\n",
    "y_pred = (y_prob > 0.5).astype(int)\n",
    "print(sum(y_pred))\n",
    "from sklearn.metrics import roc_auc_score\n",
    "auc_roc = roc_auc_score(y_test, y_prob)\n",
    "print(f\"AUC-ROC: {auc_roc}\")"
   ]
  }
 ],
 "metadata": {
  "kernelspec": {
   "display_name": "Python 3.9.18 ('MT')",
   "language": "python",
   "name": "python3"
  },
  "language_info": {
   "codemirror_mode": {
    "name": "ipython",
    "version": 3
   },
   "file_extension": ".py",
   "mimetype": "text/x-python",
   "name": "python",
   "nbconvert_exporter": "python",
   "pygments_lexer": "ipython3",
   "version": "3.9.18"
  },
  "vscode": {
   "interpreter": {
    "hash": "9defc49fc9914e153601c88ffb5707999841e280f88b56f4a0feb4e2ae5b5c2f"
   }
  }
 },
 "nbformat": 4,
 "nbformat_minor": 2
}
